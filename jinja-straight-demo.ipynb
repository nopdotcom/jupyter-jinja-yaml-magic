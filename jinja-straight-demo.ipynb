{
 "cells": [
  {
   "cell_type": "markdown",
   "metadata": {},
   "source": [
    "# Jinja2 and YAML for Jupyter\n",
    "\n",
    "People use YAML and Jinja2 together; they're the core of Ansible. Sometimes \n",
    "you need a playground to figure out details of how they work. This magic provides\n",
    "both."
   ]
  },
  {
   "cell_type": "code",
   "execution_count": 1,
   "metadata": {},
   "outputs": [],
   "source": [
    "%load_ext jinja_yaml_magic\n",
    "%reload_ext jinja_yaml_magic"
   ]
  },
  {
   "cell_type": "markdown",
   "metadata": {},
   "source": [
    "(Ignore the warning for `%load_ext`/`%reload_ext`.)"
   ]
  },
  {
   "cell_type": "markdown",
   "metadata": {},
   "source": [
    "## YAML\n",
    "\n",
    "`%%yaml variable` parses the YAML in a cell into the named *variable*. \n",
    "If you omit `variable`, the YAML is parsed into the variable `jinja_env`; it's also\n",
    "then available through the history mechanism: `Out[3]` or `_3`."
   ]
  },
  {
   "cell_type": "code",
   "execution_count": 2,
   "metadata": {},
   "outputs": [
    {
     "data": {
      "text/plain": [
       "{'names': ['Jay', 'Chris', 'Pat']}"
      ]
     },
     "execution_count": 2,
     "metadata": {},
     "output_type": "execute_result"
    }
   ],
   "source": [
    "%%yaml\n",
    "names:\n",
    "- Jay\n",
    "- Chris\n",
    "- Pat"
   ]
  },
  {
   "cell_type": "code",
   "execution_count": 3,
   "metadata": {},
   "outputs": [
    {
     "data": {
      "text/plain": [
       "['Jay', 'Chris', 'Pat']"
      ]
     },
     "execution_count": 3,
     "metadata": {},
     "output_type": "execute_result"
    }
   ],
   "source": [
    "%%jinja\n",
    "{{ names }}"
   ]
  },
  {
   "cell_type": "markdown",
   "metadata": {},
   "source": [
    "## Jinja2\n",
    "\n",
    "If you just want to try out a quick template, write `%%jinja` at the top of a cell. Both the contents of `jinja_env` and notebook variables are available. Below, we're using `names` from the `%%yaml` above, and `separator` from the notebook."
   ]
  },
  {
   "cell_type": "code",
   "execution_count": 4,
   "metadata": {},
   "outputs": [],
   "source": [
    "separator = \", \""
   ]
  },
  {
   "cell_type": "code",
   "execution_count": 5,
   "metadata": {},
   "outputs": [
    {
     "data": {
      "text/plain": [
       "Chris, Jay, Pat"
      ]
     },
     "execution_count": 5,
     "metadata": {},
     "output_type": "execute_result"
    }
   ],
   "source": [
    "%%jinja\n",
    "{{ names|sort|join(separator) }}"
   ]
  },
  {
   "cell_type": "markdown",
   "metadata": {},
   "source": [
    "### Named templates\n",
    "\n",
    "You may want to store Jinja2 code as a template.\n",
    "\n",
    "* You can reuse the template later in the notebook;\n",
    "* You can use Jinja2's powerful `extends`, `import`, and `include` mechanisms.\n",
    "\n",
    "The template below is available under the name `fancy_names`. *Files in the current directory are also available as templates.*"
   ]
  },
  {
   "cell_type": "code",
   "execution_count": 6,
   "metadata": {},
   "outputs": [],
   "source": [
    "%%jinja_template fancy_names\n",
    "{% for name in names %}\n",
    "<b>{{ name }}</b><br>\n",
    "{%- endfor %}"
   ]
  },
  {
   "cell_type": "code",
   "execution_count": 7,
   "metadata": {},
   "outputs": [
    {
     "data": {
      "text/plain": [
       "\n",
       "<b>Jay</b><br>\n",
       "<b>Chris</b><br>\n",
       "<b>Pat</b><br>"
      ]
     },
     "execution_count": 7,
     "metadata": {},
     "output_type": "execute_result"
    }
   ],
   "source": [
    "%jinja --template fancy_names"
   ]
  },
  {
   "cell_type": "markdown",
   "metadata": {},
   "source": [
    "### Formatting\n",
    "\n",
    "By default, the result of running a `%jinja` template is formatted as \"pretty\" text.\n",
    "You can choose other formats.\n",
    "\n",
    "|Type|...displays as|\n",
    "|----|----|\n",
    "|`--pretty`|A string, without quotes|\n",
    "|`--plain`|Python string literal|\n",
    "|`--html`|HTML|\n",
    "|`--svg`|SVG|\n",
    "|`--latex`|LaTeX|\n",
    "|`--markdown`|Markdown|\n",
    "|`--code`|Syntax-highlighted code|\n",
    "\n",
    "`--latex` requires MathJax to be loaded; it is by default. `--code` requires\n",
    "a recent version of IPython."
   ]
  },
  {
   "cell_type": "code",
   "execution_count": 8,
   "metadata": {},
   "outputs": [
    {
     "data": {
      "text/html": [
       "\n",
       "<b>Jay</b><br>\n",
       "<b>Chris</b><br>\n",
       "<b>Pat</b><br>"
      ],
      "text/plain": [
       "<IPython.core.display.HTML object>"
      ]
     },
     "execution_count": 8,
     "metadata": {},
     "output_type": "execute_result"
    }
   ],
   "source": [
    "%jinja --template fancy_names --html"
   ]
  },
  {
   "cell_type": "markdown",
   "metadata": {},
   "source": [
    "### An SVG example\n",
    "\n",
    "From [https://medium.com/@heyoka/scratch-made-svg-donut-pie-charts-in-html5-2c587e935d72](https://medium.com/@heyoka/scratch-made-svg-donut-pie-charts-in-html5-2c587e935d72). This template does math, so you may not want to follow its example. \n",
    "\n"
   ]
  },
  {
   "cell_type": "code",
   "execution_count": 9,
   "metadata": {},
   "outputs": [],
   "source": [
    "# Percent of circle to be filled\n",
    "full = 60\n",
    "# Percent distance from top to start\n",
    "offset = 12.5"
   ]
  },
  {
   "cell_type": "code",
   "execution_count": 10,
   "metadata": {},
   "outputs": [],
   "source": [
    "%%jinja_template svg_example\n",
    "<svg width=\"25%\" height=\"25%\" viewBox=\"0 0 42 42\" class=\"donut\">\n",
    "  <circle class=\"donut-hole\" cx=\"21\" cy=\"21\" r=\"15.91549430918954\" fill=\"#fff\"></circle>\n",
    "  <circle class=\"donut-ring\" cx=\"21\" cy=\"21\" r=\"15.91549430918954\" fill=\"transparent\" stroke=\"#d2d3d4\" stroke-width=\"3\"></circle>\n",
    "  <circle class=\"donut-segment\" cx=\"21\" cy=\"21\" r=\"15.91549430918954\" fill=\"transparent\" stroke=\"#ce4b99\" stroke-width=\"3\" \n",
    "    stroke-dasharray=\"{{ full }} {{ 100-full }}\" stroke-dashoffset=\"{{ 25 - offset }}\"></circle>\n",
    "</svg>"
   ]
  },
  {
   "cell_type": "code",
   "execution_count": 11,
   "metadata": {},
   "outputs": [
    {
     "data": {
      "image/svg+xml": [
       "<svg class=\"donut\" height=\"25%\" viewBox=\"0 0 42 42\" width=\"25%\">\n",
       "  <circle class=\"donut-hole\" cx=\"21\" cy=\"21\" fill=\"#fff\" r=\"15.91549430918954\"/>\n",
       "  <circle class=\"donut-ring\" cx=\"21\" cy=\"21\" fill=\"transparent\" r=\"15.91549430918954\" stroke=\"#d2d3d4\" stroke-width=\"3\"/>\n",
       "  <circle class=\"donut-segment\" cx=\"21\" cy=\"21\" fill=\"transparent\" r=\"15.91549430918954\" stroke=\"#ce4b99\" stroke-dasharray=\"60 40\" stroke-dashoffset=\"12.5\" stroke-width=\"3\"/>\n",
       "</svg>"
      ],
      "text/plain": [
       "<IPython.core.display.SVG object>"
      ]
     },
     "execution_count": 11,
     "metadata": {},
     "output_type": "execute_result"
    }
   ],
   "source": [
    "%jinja --template svg_example --svg"
   ]
  }
 ],
 "metadata": {
  "kernelspec": {
   "display_name": "Python 3",
   "language": "python",
   "name": "python3"
  },
  "language_info": {
   "codemirror_mode": {
    "name": "ipython",
    "version": 3
   },
   "file_extension": ".py",
   "mimetype": "text/x-python",
   "name": "python",
   "nbconvert_exporter": "python",
   "pygments_lexer": "ipython3",
   "version": "3.7.0"
  }
 },
 "nbformat": 4,
 "nbformat_minor": 2
}
